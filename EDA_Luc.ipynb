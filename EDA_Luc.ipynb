{
 "cells": [
  {
   "cell_type": "markdown",
   "metadata": {},
   "source": [
    "# Exploratory Data Analysis (EDA) of the NOAA Severe Weather Data Inventory"
   ]
  },
  {
   "cell_type": "code",
   "execution_count": 175,
   "metadata": {},
   "outputs": [],
   "source": [
    "from tqdm import tqdm\n",
    "import matplotlib.pyplot as plt\n",
    "import plotly.express as px\n",
    "import seaborn as sns\n",
    "import pandas as pd\n",
    "import numpy as np\n",
    "import os, glob"
   ]
  },
  {
   "cell_type": "code",
   "execution_count": 79,
   "metadata": {},
   "outputs": [
    {
     "name": "stdout",
     "output_type": "stream",
     "text": [
      "The autoreload extension is already loaded. To reload it, use:\n",
      "  %reload_ext autoreload\n"
     ]
    }
   ],
   "source": [
    "# Commands to setup the notebook \n",
    "%load_ext autoreload\n",
    "%autoreload 2\n",
    "\n",
    "# Maximum number of lines to display\n",
    "pd.options\n",
    "pd.options.display.max_rows = 50\n",
    "\n",
    "# Ignore warnings\n",
    "import warnings\n",
    "warnings.simplefilter(action='ignore', category=FutureWarning)\n"
   ]
  },
  {
   "cell_type": "code",
   "execution_count": 80,
   "metadata": {},
   "outputs": [
    {
     "name": "stderr",
     "output_type": "stream",
     "text": [
      "Loading *fatalities*.csv: 100%|██████████| 75/75 [00:00<00:00, 1742.49it/s]\n",
      "Loading *locations*.csv: 100%|██████████| 53/53 [00:00<00:00, 91.46it/s] \n",
      "Loading *details*.csv: 100%|██████████| 75/75 [00:07<00:00,  9.49it/s]\n",
      " 27%|██▋       | 55/203 [07:43<20:47,  8.43s/it]\n"
     ]
    }
   ],
   "source": [
    "# SOURCED FROM KAGGLE!!!\n",
    "# Import each dataset seperately\n",
    "folder_path = 'storm_data'\n",
    "\n",
    "def load_files(folder_path, pattern):\n",
    "    \"\"\"\n",
    "    Looks up all CSV files matching 'pattern' in the folder path,\n",
    "    loads them into DataFrames, then concatenates them.\n",
    "    \"\"\"\n",
    "    # Get the list of matching files using glob\n",
    "    file_paths = glob.glob(f\"{folder_path}/{pattern}\")\n",
    "    \n",
    "    # Use tqdm to show progress while loading files\n",
    "    dataframes = []\n",
    "    for file_path in tqdm(file_paths, desc=f\"Loading {pattern}\"):\n",
    "        df = pd.read_csv(file_path, low_memory=False)\n",
    "        if not df.empty:\n",
    "            dataframes.append(df)\n",
    "    \n",
    "    if dataframes:\n",
    "        return pd.concat(dataframes).reset_index(drop=True)\n",
    "    else:\n",
    "        return pd.DataFrame()  # Return empty DataFrame if no files match\n",
    "\n",
    "\n",
    "# Keep 3 separate DataFrames (exactly as shown):\n",
    "df_fatalities = load_files(folder_path, \"*fatalities*.csv\")\n",
    "df_locations  = load_files(folder_path, \"*locations*.csv\")\n",
    "df_details    = load_files(folder_path, \"*details*.csv\")"
   ]
  },
  {
   "cell_type": "code",
   "execution_count": 81,
   "metadata": {},
   "outputs": [],
   "source": [
    "# SOURCED FROM KAGGLE!!!\n",
    "# Convert SOURCE to title case\n",
    "df_details.SOURCE = df_details.SOURCE.str.title()\n",
    "\n",
    "# List of acronyms that should be uppercase\n",
    "ACRONYMS = ['Asos','Awos','Awss','Nws', 'C-Man','Raws','Shave','Snotel', 'Wlon']\n",
    "for acronym in ACRONYMS:\n",
    "    pattern = f'\\\\b{acronym}\\\\b'\n",
    "    replacement = acronym.upper()\n",
    "    df_details.SOURCE = df_details.SOURCE.str.replace(pattern, replacement, regex=True)\n",
    "\n",
    "# One-off substitutions\n",
    "source_substitutions = {\n",
    "    'Arpt Equip(AWOS,ASOS)':'AWOS,ASOS,Mesonet,Etc',\n",
    "    'Coastal Observing Station':'Coast Guard',\n",
    "    'Cocorahs':'CoCoRaHS',\n",
    "    'Coop Observer':'Cooperative Network Observer',\n",
    "    'Coop Station':'Cooperative Network Observer',\n",
    "    'Dept Of Highways':'Department Of Highways',\n",
    "    'Fire Dept/Rescue Squad':'Fire Department/Rescue',\n",
    "    'General Public':'Public',\n",
    "    'Govt Official':'State Official',\n",
    "    'Manual Input':'Unknown',\n",
    "    'Meteorologist(Non NWS)' : 'Public',\n",
    "    'NWS Employee(Off Duty)':'NWS Employee',\n",
    "    'Npop':'Unknown',\n",
    "    'Official NWS Obs.':'Official NWS Observations'\n",
    "}\n",
    "\n",
    "for original, replacement in source_substitutions.items():\n",
    "    df_details.SOURCE = df_details.SOURCE.str.replace(original, replacement)"
   ]
  },
  {
   "cell_type": "code",
   "execution_count": 82,
   "metadata": {},
   "outputs": [],
   "source": [
    "# SOURCED FROM KAGGLE!!!\n",
    "event_substitution = {\n",
    "    r'^HAIL.*' : 'Hail',\n",
    "    r'^High Snow$' : 'Heavy Snow',\n",
    "    r'^Hurricane$' : 'Hurricane (Typhoon)',\n",
    "    r'^OTHER$' : 'Dust Devil',\n",
    "    r'^THUNDERSTORM WIND.*' : 'Thunderstorm Wind',\n",
    "    r'^TORNADO.*' : 'Tornado',\n",
    "    r'^Volcanic Ashfall.*$' : 'Volcanic Ash'\n",
    "    }\n",
    "for original, replacement in event_substitution.items():\n",
    "    df_details.EVENT_TYPE = df_details.EVENT_TYPE.str.replace( original, replacement, regex=True)"
   ]
  },
  {
   "cell_type": "code",
   "execution_count": 83,
   "metadata": {},
   "outputs": [],
   "source": [
    "# SOURCED FROM KAGGLE!!!\n",
    "timezone_substitutions = {\n",
    "    \"CDT\" : \"CST\",\n",
    "    \"CSC\" : \"CST\", # event was in Iowa\n",
    "    'EDT' : 'EST',\n",
    "    'GMT' : 'CST', # event was in Louisiana\n",
    "    'GST' : 'ChST', # events were in Guam, which uses Chamorro Standard Time\n",
    "    'MDT' : 'MST',\n",
    "    'PDT' : 'PST',\n",
    "    'SCT' : 'CST', # event was in Wisconsin\n",
    "    }\n",
    "unknown_timezones = {\n",
    "    'HAWAII' : 'HST',\n",
    "    'OKLAHOMA' : 'CST',\n",
    "    'MASSACHUSETTS' : 'EST',\n",
    "    'GEORGIA' : 'EST',\n",
    "    'ILLINOIS' : 'CST'\n",
    "    }\n",
    "\n",
    "df_details.CZ_TIMEZONE = df_details.CZ_TIMEZONE.str.replace(r'-*\\d*$','',regex=True).str.upper()\n",
    "\n",
    "for original, replacement in timezone_substitutions.items():\n",
    "    df_details.CZ_TIMEZONE = df_details.CZ_TIMEZONE.str.replace(original, replacement)\n",
    "    \n",
    "for index, row in df_details.query('CZ_TIMEZONE==\"UNK\"').iterrows():\n",
    "    df_details.at[index, 'CZ_TIMEZONE'] = unknown_timezones.get(row.STATE, 'UNK')"
   ]
  },
  {
   "cell_type": "code",
   "execution_count": 84,
   "metadata": {},
   "outputs": [],
   "source": [
    "# SOURCED FROM KAGGLE!!!\n",
    "def create_datetime( df, prefix):\n",
    "    df_components =  pd.to_datetime({\n",
    "        'year' : df[ f\"{prefix}YEARMONTH\"] // 100,\n",
    "        'month' : df[ f\"{prefix}YEARMONTH\"] % 100,\n",
    "        'day' : df[ f\"{prefix}DAY\"],\n",
    "        'hour' : df[ f\"{prefix}TIME\"]//100 ,\n",
    "        'minute' : df[ f\"{prefix}TIME\"]%100,\n",
    "        })\n",
    "    return pd.to_datetime( df_components )\n",
    "\n",
    "legacy = ['BEGIN_YEARMONTH', 'BEGIN_DAY', 'BEGIN_TIME', 'BEGIN_DATE_TIME']\n",
    "legacy = legacy + ['END_YEARMONTH', 'END_DAY', 'END_TIME', 'END_DATE_TIME']\n",
    "legacy = legacy + ['MONTH_NAME', 'YEAR']\n",
    "\n",
    "df_details['BEGIN_DATETIME'] = create_datetime( df_details, 'BEGIN_')\n",
    "df_details['END_DATETIME'] = create_datetime( df_details, 'END_')\n",
    "df_details = df_details.drop(columns=legacy)"
   ]
  },
  {
   "cell_type": "code",
   "execution_count": 85,
   "metadata": {},
   "outputs": [],
   "source": [
    "# SOURCED FROM KAGGLE!!!\n",
    "def to_price( column ):\n",
    "    price = column[ column.notnull()].astype('str').str.upper()\n",
    "    \n",
    "    valid_price = r'^[\\d.]+[KMB]?$'\n",
    "    price = price[ price.str.contains(valid_price, regex=True)]\n",
    "    has_K = price.str.contains('K')\n",
    "    has_M = price.str.contains('M')\n",
    "    has_B = price.str.contains('B')\n",
    "    price = price.str.replace(r'[KMB]','', regex=True).astype('float')\n",
    "    \n",
    "    scale = np.select([has_K, has_M, has_B], [1000, 1_000_000, 1_000_000_000], 1)\n",
    "    return scale * price\n",
    "\n",
    "df_details.DAMAGE_PROPERTY = to_price( df_details.DAMAGE_PROPERTY)\n",
    "df_details.DAMAGE_CROPS = to_price( df_details.DAMAGE_CROPS)"
   ]
  },
  {
   "cell_type": "code",
   "execution_count": 86,
   "metadata": {},
   "outputs": [],
   "source": [
    "# This fields have been converted to floats but should be integers\n",
    "df_details.EPISODE_ID = df_details.EPISODE_ID.astype('Int64')\n",
    "df_details.STATE_FIPS = df_details.STATE_FIPS.astype('Int64')"
   ]
  },
  {
   "cell_type": "markdown",
   "metadata": {},
   "source": [
    "# Exploratory data analysis time!"
   ]
  },
  {
   "cell_type": "code",
   "execution_count": 87,
   "metadata": {},
   "outputs": [],
   "source": [
    "# Keep only the first letter as a capital\n",
    "df_details.columns   = df_details.columns.str.title()"
   ]
  },
  {
   "cell_type": "code",
   "execution_count": null,
   "metadata": {},
   "outputs": [
    {
     "name": "stdout",
     "output_type": "stream",
     "text": [
      "Number of samples in the Dataset: 1941100\n",
      "Number of columns in the Dataset: 43\n"
     ]
    },
    {
     "data": {
      "text/html": [
       "<div>\n",
       "<style scoped>\n",
       "    .dataframe tbody tr th:only-of-type {\n",
       "        vertical-align: middle;\n",
       "    }\n",
       "\n",
       "    .dataframe tbody tr th {\n",
       "        vertical-align: top;\n",
       "    }\n",
       "\n",
       "    .dataframe thead th {\n",
       "        text-align: right;\n",
       "    }\n",
       "</style>\n",
       "<table border=\"1\" class=\"dataframe\">\n",
       "  <thead>\n",
       "    <tr style=\"text-align: right;\">\n",
       "      <th></th>\n",
       "      <th>Episode_Id</th>\n",
       "      <th>Event_Id</th>\n",
       "      <th>State</th>\n",
       "      <th>State_Fips</th>\n",
       "      <th>Event_Type</th>\n",
       "      <th>Cz_Type</th>\n",
       "      <th>Cz_Fips</th>\n",
       "      <th>Cz_Name</th>\n",
       "      <th>Wfo</th>\n",
       "      <th>Cz_Timezone</th>\n",
       "      <th>...</th>\n",
       "      <th>End_Location</th>\n",
       "      <th>Begin_Lat</th>\n",
       "      <th>Begin_Lon</th>\n",
       "      <th>End_Lat</th>\n",
       "      <th>End_Lon</th>\n",
       "      <th>Episode_Narrative</th>\n",
       "      <th>Event_Narrative</th>\n",
       "      <th>Data_Source</th>\n",
       "      <th>Begin_Datetime</th>\n",
       "      <th>End_Datetime</th>\n",
       "    </tr>\n",
       "  </thead>\n",
       "  <tbody>\n",
       "    <tr>\n",
       "      <th>0</th>\n",
       "      <td>83473</td>\n",
       "      <td>503953</td>\n",
       "      <td>NEW HAMPSHIRE</td>\n",
       "      <td>33</td>\n",
       "      <td>Heavy Snow</td>\n",
       "      <td>Z</td>\n",
       "      <td>12</td>\n",
       "      <td>EASTERN HILLSBOROUGH</td>\n",
       "      <td>BOX</td>\n",
       "      <td>EST</td>\n",
       "      <td>...</td>\n",
       "      <td>NaN</td>\n",
       "      <td>NaN</td>\n",
       "      <td>NaN</td>\n",
       "      <td>NaN</td>\n",
       "      <td>NaN</td>\n",
       "      <td>Low pressure developing south of Long Island a...</td>\n",
       "      <td>Eight to twelve inches of snow fell across eas...</td>\n",
       "      <td>CSV</td>\n",
       "      <td>2014-02-18 10:00:00</td>\n",
       "      <td>2014-02-18 20:00:00</td>\n",
       "    </tr>\n",
       "    <tr>\n",
       "      <th>1</th>\n",
       "      <td>83491</td>\n",
       "      <td>504065</td>\n",
       "      <td>NEW HAMPSHIRE</td>\n",
       "      <td>33</td>\n",
       "      <td>Heavy Snow</td>\n",
       "      <td>Z</td>\n",
       "      <td>12</td>\n",
       "      <td>EASTERN HILLSBOROUGH</td>\n",
       "      <td>BOX</td>\n",
       "      <td>EST</td>\n",
       "      <td>...</td>\n",
       "      <td>NaN</td>\n",
       "      <td>NaN</td>\n",
       "      <td>NaN</td>\n",
       "      <td>NaN</td>\n",
       "      <td>NaN</td>\n",
       "      <td>Low pressure moving off the mid-Atlantic coast...</td>\n",
       "      <td>Six to twelve inches of snow fell across easte...</td>\n",
       "      <td>CSV</td>\n",
       "      <td>2014-02-05 03:00:00</td>\n",
       "      <td>2014-02-05 23:00:00</td>\n",
       "    </tr>\n",
       "    <tr>\n",
       "      <th>2</th>\n",
       "      <td>82185</td>\n",
       "      <td>494521</td>\n",
       "      <td>NEW HAMPSHIRE</td>\n",
       "      <td>33</td>\n",
       "      <td>Heavy Snow</td>\n",
       "      <td>Z</td>\n",
       "      <td>12</td>\n",
       "      <td>EASTERN HILLSBOROUGH</td>\n",
       "      <td>BOX</td>\n",
       "      <td>EST</td>\n",
       "      <td>...</td>\n",
       "      <td>NaN</td>\n",
       "      <td>NaN</td>\n",
       "      <td>NaN</td>\n",
       "      <td>NaN</td>\n",
       "      <td>NaN</td>\n",
       "      <td>Low pressure brought a brief period of heavy s...</td>\n",
       "      <td>Four to eight inches of snow fell across easte...</td>\n",
       "      <td>CSV</td>\n",
       "      <td>2014-01-18 10:00:00</td>\n",
       "      <td>2014-01-19 07:00:00</td>\n",
       "    </tr>\n",
       "    <tr>\n",
       "      <th>3</th>\n",
       "      <td>91728</td>\n",
       "      <td>549746</td>\n",
       "      <td>NEW HAMPSHIRE</td>\n",
       "      <td>33</td>\n",
       "      <td>Heavy Snow</td>\n",
       "      <td>Z</td>\n",
       "      <td>12</td>\n",
       "      <td>EASTERN HILLSBOROUGH</td>\n",
       "      <td>BOX</td>\n",
       "      <td>EST</td>\n",
       "      <td>...</td>\n",
       "      <td>NaN</td>\n",
       "      <td>NaN</td>\n",
       "      <td>NaN</td>\n",
       "      <td>NaN</td>\n",
       "      <td>NaN</td>\n",
       "      <td>A strong coastal storm moved up the east coast...</td>\n",
       "      <td>Six to eight inches of snow fell across easter...</td>\n",
       "      <td>CSV</td>\n",
       "      <td>2014-11-26 10:00:00</td>\n",
       "      <td>2014-11-27 10:00:00</td>\n",
       "    </tr>\n",
       "    <tr>\n",
       "      <th>4</th>\n",
       "      <td>83476</td>\n",
       "      <td>503982</td>\n",
       "      <td>NEW HAMPSHIRE</td>\n",
       "      <td>33</td>\n",
       "      <td>Heavy Snow</td>\n",
       "      <td>Z</td>\n",
       "      <td>12</td>\n",
       "      <td>EASTERN HILLSBOROUGH</td>\n",
       "      <td>BOX</td>\n",
       "      <td>EST</td>\n",
       "      <td>...</td>\n",
       "      <td>NaN</td>\n",
       "      <td>NaN</td>\n",
       "      <td>NaN</td>\n",
       "      <td>NaN</td>\n",
       "      <td>NaN</td>\n",
       "      <td>A significant winter storm brought six to twel...</td>\n",
       "      <td>Five to eight inches of snow fell across easte...</td>\n",
       "      <td>CSV</td>\n",
       "      <td>2014-02-13 06:30:00</td>\n",
       "      <td>2014-02-14 08:00:00</td>\n",
       "    </tr>\n",
       "  </tbody>\n",
       "</table>\n",
       "<p>5 rows × 43 columns</p>\n",
       "</div>"
      ],
      "text/plain": [
       "   Episode_Id  Event_Id          State  State_Fips  Event_Type Cz_Type  \\\n",
       "0       83473    503953  NEW HAMPSHIRE          33  Heavy Snow       Z   \n",
       "1       83491    504065  NEW HAMPSHIRE          33  Heavy Snow       Z   \n",
       "2       82185    494521  NEW HAMPSHIRE          33  Heavy Snow       Z   \n",
       "3       91728    549746  NEW HAMPSHIRE          33  Heavy Snow       Z   \n",
       "4       83476    503982  NEW HAMPSHIRE          33  Heavy Snow       Z   \n",
       "\n",
       "   Cz_Fips               Cz_Name  Wfo Cz_Timezone  ...  End_Location  \\\n",
       "0       12  EASTERN HILLSBOROUGH  BOX         EST  ...           NaN   \n",
       "1       12  EASTERN HILLSBOROUGH  BOX         EST  ...           NaN   \n",
       "2       12  EASTERN HILLSBOROUGH  BOX         EST  ...           NaN   \n",
       "3       12  EASTERN HILLSBOROUGH  BOX         EST  ...           NaN   \n",
       "4       12  EASTERN HILLSBOROUGH  BOX         EST  ...           NaN   \n",
       "\n",
       "   Begin_Lat  Begin_Lon  End_Lat  End_Lon  \\\n",
       "0        NaN        NaN      NaN      NaN   \n",
       "1        NaN        NaN      NaN      NaN   \n",
       "2        NaN        NaN      NaN      NaN   \n",
       "3        NaN        NaN      NaN      NaN   \n",
       "4        NaN        NaN      NaN      NaN   \n",
       "\n",
       "                                   Episode_Narrative  \\\n",
       "0  Low pressure developing south of Long Island a...   \n",
       "1  Low pressure moving off the mid-Atlantic coast...   \n",
       "2  Low pressure brought a brief period of heavy s...   \n",
       "3  A strong coastal storm moved up the east coast...   \n",
       "4  A significant winter storm brought six to twel...   \n",
       "\n",
       "                                     Event_Narrative  Data_Source  \\\n",
       "0  Eight to twelve inches of snow fell across eas...          CSV   \n",
       "1  Six to twelve inches of snow fell across easte...          CSV   \n",
       "2  Four to eight inches of snow fell across easte...          CSV   \n",
       "3  Six to eight inches of snow fell across easter...          CSV   \n",
       "4  Five to eight inches of snow fell across easte...          CSV   \n",
       "\n",
       "       Begin_Datetime        End_Datetime  \n",
       "0 2014-02-18 10:00:00 2014-02-18 20:00:00  \n",
       "1 2014-02-05 03:00:00 2014-02-05 23:00:00  \n",
       "2 2014-01-18 10:00:00 2014-01-19 07:00:00  \n",
       "3 2014-11-26 10:00:00 2014-11-27 10:00:00  \n",
       "4 2014-02-13 06:30:00 2014-02-14 08:00:00  \n",
       "\n",
       "[5 rows x 43 columns]"
      ]
     },
     "metadata": {},
     "output_type": "display_data"
    }
   ],
   "source": [
    "print(f\"Number of samples in the Dataset: {df_details.shape[0]}\")\n",
    "print(f\"Nusmber of columns in the Dataset: {df_details.shape[1]}\")\n",
    "display(df_details.head())"
   ]
  },
  {
   "cell_type": "code",
   "execution_count": 140,
   "metadata": {},
   "outputs": [
    {
     "name": "stdout",
     "output_type": "stream",
     "text": [
      "There are exactly: 37.5393848848591% missing values in the dataset.\n",
      "The 3 columns with the most missing values are: Category, Tor_Other_Cz_State and Tor_Other_Cz_Fips.\n",
      "The percentage of missing values in the top 3 columns are: 99.97%, 99.82% and 99.82%.\n"
     ]
    }
   ],
   "source": [
    "# Check for missing values\n",
    "missing_values_per_col = df_details.isna().sum()\n",
    "percentage_missing_total = missing_values_per_col .sum()/ (df_details.size) * 100\n",
    "print(f\"There are exactly: {percentage_missing_total}% missing values in the dataset.\")\n",
    "\n",
    "# Find the 3 columns with the most missing values\n",
    "top_3_missing_columns = np.array(missing_values_per_col.sort_values(ascending=False).index[:3])\n",
    "print(f\"The 3 columns with the most missing values are: {top_3_missing_columns[0]}, {top_3_missing_columns[1]} and {top_3_missing_columns[2]}.\")\n",
    "\n",
    "num_rows = df_details.shape[0]\n",
    "percentage_missing_top_3 = np.array(missing_values_per_col.sort_values(ascending=False).values[:3]) / num_rows\n",
    "print(f\"The percentage of missing values in the top 3 columns are: {percentage_missing_top_3[0]:.2%}, {percentage_missing_top_3[1]:.2%} and {percentage_missing_top_3[2]:.2%}.\")"
   ]
  },
  {
   "cell_type": "code",
   "execution_count": 166,
   "metadata": {},
   "outputs": [
    {
     "data": {
      "image/png": "[encoded data removed]",
      "text/plain": [
       "<Figure size 1600x800 with 1 Axes>"
      ]
     },
     "metadata": {},
     "output_type": "display_data"
    }
   ],
   "source": [
    "# Count events by year\n",
    "events_by_year = df_details['Begin_Datetime'].dt.year.value_counts().sort_index()\n",
    "\n",
    "# Create a line plot\n",
    "plt.figure(figsize=(16, 8))\n",
    "plt.plot(events_by_year.index, events_by_year.values, linewidth=3, color='#1f77b4')\n",
    "plt.title('Number of Storm Events Over Time (1950-2020)', fontsize=20)\n",
    "plt.xlabel('Year', fontsize=14)\n",
    "plt.ylabel('Number of Events', fontsize=14)\n",
    "plt.grid(True, alpha=0.3)\n",
    "plt.xticks(range(min(events_by_year.index), max(events_by_year.index)+1, 5), rotation=45)\n",
    "plt.tight_layout()\n",
    "\n",
    "# Add annotations for key periods\n",
    "plt.axvline(x=1954, color='red', linestyle='--', alpha=0.7)\n",
    "plt.axvline(x=1995, color='red', linestyle='--', alpha=0.7)\n",
    "plt.text(1947, events_by_year.max()*0.9, 'Phase 1: \\nTornados only', fontsize=12)\n",
    "plt.text(1985, events_by_year.max()*0.9, 'Phase 2: Tornados, \\nThunderstorm Wind \\n& Hail', fontsize=12)\n",
    "plt.text(2000, events_by_year.max()*0.9, 'Phase 3: \\n48 event types', fontsize=12)\n",
    "\n",
    "plt.show()"
   ]
  },
  {
   "cell_type": "code",
   "execution_count": 161,
   "metadata": {},
   "outputs": [
    {
     "data": {
      "text/plain": [
       "Begin_Datetime\n",
       "1950      223\n",
       "1951      269\n",
       "1952      272\n",
       "1953      492\n",
       "1954      609\n",
       "        ...  \n",
       "2020    61279\n",
       "2021    61389\n",
       "2022    69886\n",
       "2023    75677\n",
       "2024    70196\n",
       "Name: count, Length: 75, dtype: int64"
      ]
     },
     "execution_count": 161,
     "metadata": {},
     "output_type": "execute_result"
    }
   ],
   "source": [
    "df_details['Begin_Datetime'].dt.year.value_counts().sort_index()"
   ]
  },
  {
   "cell_type": "code",
   "execution_count": 199,
   "metadata": {},
   "outputs": [],
   "source": [
    "state_counts = df_details['State'].value_counts()\n",
    "state_counts = pd.DataFrame({'State': state_counts.index, 'Event_Count': state_counts.values})"
   ]
  },
  {
   "cell_type": "code",
   "execution_count": 200,
   "metadata": {},
   "outputs": [
    {
     "data": {
      "application/vnd.plotly.v1+json": {
       "config": {
        "plotlyServerURL": "https://plot.ly"
       },
       "data": [
        {
         "coloraxis": "coloraxis",
         "geo": "geo",
         "hovertemplate": "State_Code=%{location}<br>Event_Count=%{z}<extra></extra>",
         "locationmode": "USA-states",
         "locations": [
          "TX",
          "KS",
          "OK",
          "MO",
          "IA",
          "IL",
          "NE",
          "VA",
          "GA",
          "NY",
          "MN",
          "SD",
          "KY",
          "NC",
          "PA",
          "OH",
          "CO",
          "AR",
          "WI",
          "TN",
          "AL",
          "IN",
          "MS",
          "FL",
          "CA",
          "MI",
          "MT",
          "ND",
          "SC",
          "LA",
          "WV",
          "NJ",
          "WY",
          "MD",
          "NM",
          null,
          "AZ",
          "MA",
          "HI",
          "ME",
          null,
          "UT",
          "ID",
          "OR",
          "VT",
          "WA",
          "AK",
          null,
          "NH",
          "NV",
          "CT",
          "PR",
          "DE",
          null,
          null,
          "RI",
          null,
          null,
          "DC",
          null,
          "GU",
          "AS",
          null,
          null,
          null,
          null,
          null,
          null,
          null,
          null
         ],
         "name": "",
         "type": "choropleth",
         "z": {
          "bdata": "vGQCABxhAQCWMgEAyw4BAIAGAQAZ8gAACO8AACzUAACm0gAAc9EAAD/RAAAEzQAAq8wAAGjMAAC9xwAA1b8AAN29AAAMtwAAP6sAAG+oAACmoAAAWp4AAOmZAADkmQAAdZkAAOyHAAADhQAACXwAACR7AAAXeQAAvGcAAN9kAAAjYAAAa1wAAE5ZAAD2QQAAe0EAAGE+AACBOwAAezsAAKA0AADTLAAAACwAAKwrAAC4KAAAQSYAAE8kAACIIgAAXSAAAPAfAADKGgAAvBcAADASAADeCwAApwkAAJAJAAA0BQAARwQAALIDAABjAgAAWQIAAA4CAACiAQAADgEAAOcAAAAuAAAAJQAAABwAAAAMAAAAAwAAAA==",
          "dtype": "i4"
         }
        }
       ],
       "layout": {
        "coloraxis": {
         "colorbar": {
          "title": {
           "font": {
            "size": 14
           },
           "text": "Number of Events"
          }
         },
         "colorscale": [
          [
           0,
           "#440154"
          ],
          [
           0.1111111111111111,
           "#482878"
          ],
          [
           0.2222222222222222,
           "#3e4989"
          ],
          [
           0.3333333333333333,
           "#31688e"
          ],
          [
           0.4444444444444444,
           "#26828e"
          ],
          [
           0.5555555555555556,
           "#1f9e89"
          ],
          [
           0.6666666666666666,
           "#35b779"
          ],
          [
           0.7777777777777778,
           "#6ece58"
          ],
          [
           0.8888888888888888,
           "#b5de2b"
          ],
          [
           1,
           "#fde725"
          ]
         ]
        },
        "geo": {
         "center": {},
         "domain": {
          "x": [
           0,
           1
          ],
          "y": [
           0,
           1
          ]
         },
         "lakecolor": "rgb(255, 255, 255)",
         "scope": "usa",
         "showlakes": true
        },
        "height": 600,
        "legend": {
         "tracegroupgap": 0
        },
        "template": {
         "data": {
          "bar": [
           {
            "error_x": {
             "color": "#2a3f5f"
            },
            "error_y": {
             "color": "#2a3f5f"
            },
            "marker": {
             "line": {
              "color": "#E5ECF6",
              "width": 0.5
             },
             "pattern": {
              "fillmode": "overlay",
              "size": 10,
              "solidity": 0.2
             }
            },
            "type": "bar"
           }
          ],
          "barpolar": [
           {
            "marker": {
             "line": {
              "color": "#E5ECF6",
              "width": 0.5
             },
             "pattern": {
              "fillmode": "overlay",
              "size": 10,
              "solidity": 0.2
             }
            },
            "type": "barpolar"
           }
          ],
          "carpet": [
           {
            "aaxis": {
             "endlinecolor": "#2a3f5f",
             "gridcolor": "white",
             "linecolor": "white",
             "minorgridcolor": "white",
             "startlinecolor": "#2a3f5f"
            },
            "baxis": {
             "endlinecolor": "#2a3f5f",
             "gridcolor": "white",
             "linecolor": "white",
             "minorgridcolor": "white",
             "startlinecolor": "#2a3f5f"
            },
            "type": "carpet"
           }
          ],
          "choropleth": [
           {
            "colorbar": {
             "outlinewidth": 0,
             "ticks": ""
            },
            "type": "choropleth"
           }
          ],
          "contour": [
           {
            "colorbar": {
             "outlinewidth": 0,
             "ticks": ""
            },
            "colorscale": [
             [
              0,
              "#0d0887"
             ],
             [
              0.1111111111111111,
              "#46039f"
             ],
             [
              0.2222222222222222,
              "#7201a8"
             ],
             [
              0.3333333333333333,
              "#9c179e"
             ],
             [
              0.4444444444444444,
              "#bd3786"
             ],
             [
              0.5555555555555556,
              "#d8576b"
             ],
             [
              0.6666666666666666,
              "#ed7953"
             ],
             [
              0.7777777777777778,
              "#fb9f3a"
             ],
             [
              0.8888888888888888,
              "#fdca26"
             ],
             [
              1,
              "#f0f921"
             ]
            ],
            "type": "contour"
           }
          ],
          "contourcarpet": [
           {
            "colorbar": {
             "outlinewidth": 0,
             "ticks": ""
            },
            "type": "contourcarpet"
           }
          ],
          "heatmap": [
           {
            "colorbar": {
             "outlinewidth": 0,
             "ticks": ""
            },
            "colorscale": [
             [
              0,
              "#0d0887"
             ],
             [
              0.1111111111111111,
              "#46039f"
             ],
             [
              0.2222222222222222,
              "#7201a8"
             ],
             [
              0.3333333333333333,
              "#9c179e"
             ],
             [
              0.4444444444444444,
              "#bd3786"
             ],
             [
              0.5555555555555556,
              "#d8576b"
             ],
             [
              0.6666666666666666,
              "#ed7953"
             ],
             [
              0.7777777777777778,
              "#fb9f3a"
             ],
             [
              0.8888888888888888,
              "#fdca26"
             ],
             [
              1,
              "#f0f921"
             ]
            ],
            "type": "heatmap"
           }
          ],
          "histogram": [
           {
            "marker": {
             "pattern": {
              "fillmode": "overlay",
              "size": 10,
              "solidity": 0.2
             }
            },
            "type": "histogram"
           }
          ],
          "histogram2d": [
           {
            "colorbar": {
             "outlinewidth": 0,
             "ticks": ""
            },
            "colorscale": [
             [
              0,
              "#0d0887"
             ],
             [
              0.1111111111111111,
              "#46039f"
             ],
             [
              0.2222222222222222,
              "#7201a8"
             ],
             [
              0.3333333333333333,
              "#9c179e"
             ],
             [
              0.4444444444444444,
              "#bd3786"
             ],
             [
              0.5555555555555556,
              "#d8576b"
             ],
             [
              0.6666666666666666,
              "#ed7953"
             ],
             [
              0.7777777777777778,
              "#fb9f3a"
             ],
             [
              0.8888888888888888,
              "#fdca26"
             ],
             [
              1,
              "#f0f921"
             ]
            ],
            "type": "histogram2d"
           }
          ],
          "histogram2dcontour": [
           {
            "colorbar": {
             "outlinewidth": 0,
             "ticks": ""
            },
            "colorscale": [
             [
              0,
              "#0d0887"
             ],
             [
              0.1111111111111111,
              "#46039f"
             ],
             [
              0.2222222222222222,
              "#7201a8"
             ],
             [
              0.3333333333333333,
              "#9c179e"
             ],
             [
              0.4444444444444444,
              "#bd3786"
             ],
             [
              0.5555555555555556,
              "#d8576b"
             ],
             [
              0.6666666666666666,
              "#ed7953"
             ],
             [
              0.7777777777777778,
              "#fb9f3a"
             ],
             [
              0.8888888888888888,
              "#fdca26"
             ],
             [
              1,
              "#f0f921"
             ]
            ],
            "type": "histogram2dcontour"
           }
          ],
          "mesh3d": [
           {
            "colorbar": {
             "outlinewidth": 0,
             "ticks": ""
            },
            "type": "mesh3d"
           }
          ],
          "parcoords": [
           {
            "line": {
             "colorbar": {
              "outlinewidth": 0,
              "ticks": ""
             }
            },
            "type": "parcoords"
           }
          ],
          "pie": [
           {
            "automargin": true,
            "type": "pie"
           }
          ],
          "scatter": [
           {
            "fillpattern": {
             "fillmode": "overlay",
             "size": 10,
             "solidity": 0.2
            },
            "type": "scatter"
           }
          ],
          "scatter3d": [
           {
            "line": {
             "colorbar": {
              "outlinewidth": 0,
              "ticks": ""
             }
            },
            "marker": {
             "colorbar": {
              "outlinewidth": 0,
              "ticks": ""
             }
            },
            "type": "scatter3d"
           }
          ],
          "scattercarpet": [
           {
            "marker": {
             "colorbar": {
              "outlinewidth": 0,
              "ticks": ""
             }
            },
            "type": "scattercarpet"
           }
          ],
          "scattergeo": [
           {
            "marker": {
             "colorbar": {
              "outlinewidth": 0,
              "ticks": ""
             }
            },
            "type": "scattergeo"
           }
          ],
          "scattergl": [
           {
            "marker": {
             "colorbar": {
              "outlinewidth": 0,
              "ticks": ""
             }
            },
            "type": "scattergl"
           }
          ],
          "scattermap": [
           {
            "marker": {
             "colorbar": {
              "outlinewidth": 0,
              "ticks": ""
             }
            },
            "type": "scattermap"
           }
          ],
          "scattermapbox": [
           {
            "marker": {
             "colorbar": {
              "outlinewidth": 0,
              "ticks": ""
             }
            },
            "type": "scattermapbox"
           }
          ],
          "scatterpolar": [
           {
            "marker": {
             "colorbar": {
              "outlinewidth": 0,
              "ticks": ""
             }
            },
            "type": "scatterpolar"
           }
          ],
          "scatterpolargl": [
           {
            "marker": {
             "colorbar": {
              "outlinewidth": 0,
              "ticks": ""
             }
            },
            "type": "scatterpolargl"
           }
          ],
          "scatterternary": [
           {
            "marker": {
             "colorbar": {
              "outlinewidth": 0,
              "ticks": ""
             }
            },
            "type": "scatterternary"
           }
          ],
          "surface": [
           {
            "colorbar": {
             "outlinewidth": 0,
             "ticks": ""
            },
            "colorscale": [
             [
              0,
              "#0d0887"
             ],
             [
              0.1111111111111111,
              "#46039f"
             ],
             [
              0.2222222222222222,
              "#7201a8"
             ],
             [
              0.3333333333333333,
              "#9c179e"
             ],
             [
              0.4444444444444444,
              "#bd3786"
             ],
             [
              0.5555555555555556,
              "#d8576b"
             ],
             [
              0.6666666666666666,
              "#ed7953"
             ],
             [
              0.7777777777777778,
              "#fb9f3a"
             ],
             [
              0.8888888888888888,
              "#fdca26"
             ],
             [
              1,
              "#f0f921"
             ]
            ],
            "type": "surface"
           }
          ],
          "table": [
           {
            "cells": {
             "fill": {
              "color": "#EBF0F8"
             },
             "line": {
              "color": "white"
             }
            },
            "header": {
             "fill": {
              "color": "#C8D4E3"
             },
             "line": {
              "color": "white"
             }
            },
            "type": "table"
           }
          ]
         },
         "layout": {
          "annotationdefaults": {
           "arrowcolor": "#2a3f5f",
           "arrowhead": 0,
           "arrowwidth": 1
          },
          "autotypenumbers": "strict",
          "coloraxis": {
           "colorbar": {
            "outlinewidth": 0,
            "ticks": ""
           }
          },
          "colorscale": {
           "diverging": [
            [
             0,
             "#8e0152"
            ],
            [
             0.1,
             "#c51b7d"
            ],
            [
             0.2,
             "#de77ae"
            ],
            [
             0.3,
             "#f1b6da"
            ],
            [
             0.4,
             "#fde0ef"
            ],
            [
             0.5,
             "#f7f7f7"
            ],
            [
             0.6,
             "#e6f5d0"
            ],
            [
             0.7,
             "#b8e186"
            ],
            [
             0.8,
             "#7fbc41"
            ],
            [
             0.9,
             "#4d9221"
            ],
            [
             1,
             "#276419"
            ]
           ],
           "sequential": [
            [
             0,
             "#0d0887"
            ],
            [
             0.1111111111111111,
             "#46039f"
            ],
            [
             0.2222222222222222,
             "#7201a8"
            ],
            [
             0.3333333333333333,
             "#9c179e"
            ],
            [
             0.4444444444444444,
             "#bd3786"
            ],
            [
             0.5555555555555556,
             "#d8576b"
            ],
            [
             0.6666666666666666,
             "#ed7953"
            ],
            [
             0.7777777777777778,
             "#fb9f3a"
            ],
            [
             0.8888888888888888,
             "#fdca26"
            ],
            [
             1,
             "#f0f921"
            ]
           ],
           "sequentialminus": [
            [
             0,
             "#0d0887"
            ],
            [
             0.1111111111111111,
             "#46039f"
            ],
            [
             0.2222222222222222,
             "#7201a8"
            ],
            [
             0.3333333333333333,
             "#9c179e"
            ],
            [
             0.4444444444444444,
             "#bd3786"
            ],
            [
             0.5555555555555556,
             "#d8576b"
            ],
            [
             0.6666666666666666,
             "#ed7953"
            ],
            [
             0.7777777777777778,
             "#fb9f3a"
            ],
            [
             0.8888888888888888,
             "#fdca26"
            ],
            [
             1,
             "#f0f921"
            ]
           ]
          },
          "colorway": [
           "#636efa",
           "#EF553B",
           "#00cc96",
           "#ab63fa",
           "#FFA15A",
           "#19d3f3",
           "#FF6692",
           "#B6E880",
           "#FF97FF",
           "#FECB52"
          ],
          "font": {
           "color": "#2a3f5f"
          },
          "geo": {
           "bgcolor": "white",
           "lakecolor": "white",
           "landcolor": "#E5ECF6",
           "showlakes": true,
           "showland": true,
           "subunitcolor": "white"
          },
          "hoverlabel": {
           "align": "left"
          },
          "hovermode": "closest",
          "mapbox": {
           "style": "light"
          },
          "paper_bgcolor": "white",
          "plot_bgcolor": "#E5ECF6",
          "polar": {
           "angularaxis": {
            "gridcolor": "white",
            "linecolor": "white",
            "ticks": ""
           },
           "bgcolor": "#E5ECF6",
           "radialaxis": {
            "gridcolor": "white",
            "linecolor": "white",
            "ticks": ""
           }
          },
          "scene": {
           "xaxis": {
            "backgroundcolor": "#E5ECF6",
            "gridcolor": "white",
            "gridwidth": 2,
            "linecolor": "white",
            "showbackground": true,
            "ticks": "",
            "zerolinecolor": "white"
           },
           "yaxis": {
            "backgroundcolor": "#E5ECF6",
            "gridcolor": "white",
            "gridwidth": 2,
            "linecolor": "white",
            "showbackground": true,
            "ticks": "",
            "zerolinecolor": "white"
           },
           "zaxis": {
            "backgroundcolor": "#E5ECF6",
            "gridcolor": "white",
            "gridwidth": 2,
            "linecolor": "white",
            "showbackground": true,
            "ticks": "",
            "zerolinecolor": "white"
           }
          },
          "shapedefaults": {
           "line": {
            "color": "#2a3f5f"
           }
          },
          "ternary": {
           "aaxis": {
            "gridcolor": "white",
            "linecolor": "white",
            "ticks": ""
           },
           "baxis": {
            "gridcolor": "white",
            "linecolor": "white",
            "ticks": ""
           },
           "bgcolor": "#E5ECF6",
           "caxis": {
            "gridcolor": "white",
            "linecolor": "white",
            "ticks": ""
           }
          },
          "title": {
           "x": 0.05
          },
          "xaxis": {
           "automargin": true,
           "gridcolor": "white",
           "linecolor": "white",
           "ticks": "",
           "title": {
            "standoff": 15
           },
           "zerolinecolor": "white",
           "zerolinewidth": 2
          },
          "yaxis": {
           "automargin": true,
           "gridcolor": "white",
           "linecolor": "white",
           "ticks": "",
           "title": {
            "standoff": 15
           },
           "zerolinecolor": "white",
           "zerolinewidth": 2
          }
         }
        },
        "title": {
         "font": {
          "size": 20
         },
         "text": "Storm Events by State (1950-2020)"
        }
       }
      }
     },
     "metadata": {},
     "output_type": "display_data"
    }
   ],
   "source": [
    "# Create a mapping dictionary from uppercase state names to 2-letter codes\n",
    "state_name_to_code = {\n",
    "    'ALABAMA': 'AL', 'ALASKA': 'AK', 'ARIZONA': 'AZ', 'ARKANSAS': 'AR', 'CALIFORNIA': 'CA',\n",
    "    'COLORADO': 'CO', 'CONNECTICUT': 'CT', 'DELAWARE': 'DE', 'FLORIDA': 'FL', 'GEORGIA': 'GA',\n",
    "    'HAWAII': 'HI', 'IDAHO': 'ID', 'ILLINOIS': 'IL', 'INDIANA': 'IN', 'IOWA': 'IA',\n",
    "    'KANSAS': 'KS', 'KENTUCKY': 'KY', 'LOUISIANA': 'LA', 'MAINE': 'ME', 'MARYLAND': 'MD',\n",
    "    'MASSACHUSETTS': 'MA', 'MICHIGAN': 'MI', 'MINNESOTA': 'MN', 'MISSISSIPPI': 'MS', 'MISSOURI': 'MO',\n",
    "    'MONTANA': 'MT', 'NEBRASKA': 'NE', 'NEVADA': 'NV', 'NEW HAMPSHIRE': 'NH', 'NEW JERSEY': 'NJ',\n",
    "    'NEW MEXICO': 'NM', 'NEW YORK': 'NY', 'NORTH CAROLINA': 'NC', 'NORTH DAKOTA': 'ND', 'OHIO': 'OH',\n",
    "    'OKLAHOMA': 'OK', 'OREGON': 'OR', 'PENNSYLVANIA': 'PA', 'RHODE ISLAND': 'RI', 'SOUTH CAROLINA': 'SC',\n",
    "    'SOUTH DAKOTA': 'SD', 'TENNESSEE': 'TN', 'TEXAS': 'TX', 'UTAH': 'UT', 'VERMONT': 'VT',\n",
    "    'VIRGINIA': 'VA', 'WASHINGTON': 'WA', 'WEST VIRGINIA': 'WV', 'WISCONSIN': 'WI', 'WYOMING': 'WY',\n",
    "    'DISTRICT OF COLUMBIA': 'DC', 'AMERICAN SAMOA': 'AS', 'GUAM': 'GU', 'NORTHERN MARIANA ISLANDS': 'MP',\n",
    "    'PUERTO RICO': 'PR', 'UNITED STATES VIRGIN ISLANDS': 'VI', 'U.S. VIRGIN ISLANDS': 'VI'\n",
    "}\n",
    "\n",
    "# Map the state names to codes\n",
    "state_counts['State_Code'] = state_counts['State'].map(state_name_to_code)\n",
    "\n",
    "# Create a choropleth map using the state codes\n",
    "fig = px.choropleth(state_counts, \n",
    "                    locations='State_Code',  # Use the new column with state codes\n",
    "                    locationmode='USA-states',\n",
    "                    color='Event_Count',\n",
    "                    scope='usa',\n",
    "                    color_continuous_scale='Viridis',\n",
    "                    title='Storm Events by State (1950-2020)')\n",
    "\n",
    "fig.update_layout(\n",
    "    title_font_size=20,\n",
    "    coloraxis_colorbar=dict(\n",
    "        title=dict(\n",
    "            text='Number of Events',\n",
    "            font=dict(size=14)\n",
    "        )\n",
    "    ),\n",
    "    geo=dict(\n",
    "        lakecolor='rgb(255, 255, 255)',\n",
    "        showlakes=True\n",
    "    ),\n",
    "    height=600\n",
    ")\n",
    "\n",
    "fig.show()"
   ]
  },
  {
   "cell_type": "code",
   "execution_count": 196,
   "metadata": {},
   "outputs": [
    {
     "data": {
      "text/html": [
       "<div>\n",
       "<style scoped>\n",
       "    .dataframe tbody tr th:only-of-type {\n",
       "        vertical-align: middle;\n",
       "    }\n",
       "\n",
       "    .dataframe tbody tr th {\n",
       "        vertical-align: top;\n",
       "    }\n",
       "\n",
       "    .dataframe thead th {\n",
       "        text-align: right;\n",
       "    }\n",
       "</style>\n",
       "<table border=\"1\" class=\"dataframe\">\n",
       "  <thead>\n",
       "    <tr style=\"text-align: right;\">\n",
       "      <th></th>\n",
       "      <th>State</th>\n",
       "      <th>Event_Count</th>\n",
       "    </tr>\n",
       "  </thead>\n",
       "  <tbody>\n",
       "    <tr>\n",
       "      <th>0</th>\n",
       "      <td>TEXAS</td>\n",
       "      <td>156860</td>\n",
       "    </tr>\n",
       "    <tr>\n",
       "      <th>1</th>\n",
       "      <td>KANSAS</td>\n",
       "      <td>90396</td>\n",
       "    </tr>\n",
       "    <tr>\n",
       "      <th>2</th>\n",
       "      <td>OKLAHOMA</td>\n",
       "      <td>78486</td>\n",
       "    </tr>\n",
       "    <tr>\n",
       "      <th>3</th>\n",
       "      <td>MISSOURI</td>\n",
       "      <td>69323</td>\n",
       "    </tr>\n",
       "    <tr>\n",
       "      <th>4</th>\n",
       "      <td>IOWA</td>\n",
       "      <td>67200</td>\n",
       "    </tr>\n",
       "  </tbody>\n",
       "</table>\n",
       "</div>"
      ],
      "text/plain": [
       "      State  Event_Count\n",
       "0     TEXAS       156860\n",
       "1    KANSAS        90396\n",
       "2  OKLAHOMA        78486\n",
       "3  MISSOURI        69323\n",
       "4      IOWA        67200"
      ]
     },
     "execution_count": 196,
     "metadata": {},
     "output_type": "execute_result"
    }
   ],
   "source": [
    "state_counts.head()"
   ]
  },
  {
   "cell_type": "code",
   "execution_count": null,
   "metadata": {},
   "outputs": [],
   "source": []
  },
  {
   "cell_type": "code",
   "execution_count": null,
   "metadata": {},
   "outputs": [],
   "source": []
  },
  {
   "cell_type": "code",
   "execution_count": null,
   "metadata": {},
   "outputs": [],
   "source": []
  },
  {
   "cell_type": "code",
   "execution_count": 69,
   "metadata": {},
   "outputs": [
    {
     "name": "stderr",
     "output_type": "stream",
     "text": [
      "100%|██████████| 203/203 [00:08<00:00, 23.29it/s]\n"
     ]
    },
    {
     "name": "stdout",
     "output_type": "stream",
     "text": [
      "There are 180 non-empty dataframes in the list\n"
     ]
    }
   ],
   "source": [
    "folder_path = 'storm_data'\n",
    "\n",
    "# Load the data\n",
    "csv_files = [file for file in os.listdir(folder_path) if file.endswith('.csv')]\n",
    "\n",
    "# Read all the dfs into a list\n",
    "dfs = [df for df in (pd.read_csv(os.path.join(folder_path, file), low_memory=False) for file in tqdm(csv_files)) if not df.empty]\n",
    "print(f\"There are {len(dfs)} non-empty dataframes in the list\")"
   ]
  },
  {
   "cell_type": "code",
   "execution_count": 5,
   "metadata": {},
   "outputs": [
    {
     "name": "stdout",
     "output_type": "stream",
     "text": [
      "As expected there are 3 sets of columns since there are the following different dataset types; details, locations and fatalities\n"
     ]
    }
   ],
   "source": [
    "columns_list = {tuple(df.columns) for df in dfs}\n",
    "print(f\"As expected there are {len(columns_list)} sets of columns since there are the following different dataset types; details, locations and fatalities\")"
   ]
  },
  {
   "cell_type": "code",
   "execution_count": 35,
   "metadata": {},
   "outputs": [
    {
     "data": {
      "text/plain": [
       "{('BEGIN_YEARMONTH',\n",
       "  'BEGIN_DAY',\n",
       "  'BEGIN_TIME',\n",
       "  'END_YEARMONTH',\n",
       "  'END_DAY',\n",
       "  'END_TIME',\n",
       "  'EPISODE_ID',\n",
       "  'EVENT_ID',\n",
       "  'STATE',\n",
       "  'STATE_FIPS',\n",
       "  'YEAR',\n",
       "  'MONTH_NAME',\n",
       "  'EVENT_TYPE',\n",
       "  'CZ_TYPE',\n",
       "  'CZ_FIPS',\n",
       "  'CZ_NAME',\n",
       "  'WFO',\n",
       "  'BEGIN_DATE_TIME',\n",
       "  'CZ_TIMEZONE',\n",
       "  'END_DATE_TIME',\n",
       "  'INJURIES_DIRECT',\n",
       "  'INJURIES_INDIRECT',\n",
       "  'DEATHS_DIRECT',\n",
       "  'DEATHS_INDIRECT',\n",
       "  'DAMAGE_PROPERTY',\n",
       "  'DAMAGE_CROPS',\n",
       "  'SOURCE',\n",
       "  'MAGNITUDE',\n",
       "  'MAGNITUDE_TYPE',\n",
       "  'FLOOD_CAUSE',\n",
       "  'CATEGORY',\n",
       "  'TOR_F_SCALE',\n",
       "  'TOR_LENGTH',\n",
       "  'TOR_WIDTH',\n",
       "  'TOR_OTHER_WFO',\n",
       "  'TOR_OTHER_CZ_STATE',\n",
       "  'TOR_OTHER_CZ_FIPS',\n",
       "  'TOR_OTHER_CZ_NAME',\n",
       "  'BEGIN_RANGE',\n",
       "  'BEGIN_AZIMUTH',\n",
       "  'BEGIN_LOCATION',\n",
       "  'END_RANGE',\n",
       "  'END_AZIMUTH',\n",
       "  'END_LOCATION',\n",
       "  'BEGIN_LAT',\n",
       "  'BEGIN_LON',\n",
       "  'END_LAT',\n",
       "  'END_LON',\n",
       "  'EPISODE_NARRATIVE',\n",
       "  'EVENT_NARRATIVE',\n",
       "  'DATA_SOURCE'),\n",
       " ('FAT_YEARMONTH',\n",
       "  'FAT_DAY',\n",
       "  'FAT_TIME',\n",
       "  'FATALITY_ID',\n",
       "  'EVENT_ID',\n",
       "  'FATALITY_TYPE',\n",
       "  'FATALITY_DATE',\n",
       "  'FATALITY_AGE',\n",
       "  'FATALITY_SEX',\n",
       "  'FATALITY_LOCATION',\n",
       "  'EVENT_YEARMONTH'),\n",
       " ('YEARMONTH',\n",
       "  'EPISODE_ID',\n",
       "  'EVENT_ID',\n",
       "  'LOCATION_INDEX',\n",
       "  'RANGE',\n",
       "  'AZIMUTH',\n",
       "  'LOCATION',\n",
       "  'LATITUDE',\n",
       "  'LONGITUDE',\n",
       "  'LAT2',\n",
       "  'LON2')}"
      ]
     },
     "execution_count": 35,
     "metadata": {},
     "output_type": "execute_result"
    }
   ],
   "source": [
    "columns_lista"
   ]
  },
  {
   "cell_type": "code",
   "execution_count": null,
   "metadata": {},
   "outputs": [
    {
     "name": "stdout",
     "output_type": "stream",
     "text": [
      "Final shape: (22, 11)\n"
     ]
    }
   ],
   "source": [
    "# Combine the dfs together by using 'episode_id' and 'event_id' as the key (as described in the pdf)\n",
    "combined_df = dfs[0]\n",
    "\n",
    "# Loop through the rest of the dfs and merge them with the combined_df, Event fatalities doesn't have episode_id\n",
    "for df in dfs[1:]:\n",
    "    if 'episode_id' in df.columns and 'episode_id' in combined_df.columns:\n",
    "        join_cols = ['episode_id', 'event_id']\n",
    "    elif 'event_id' in df.columns and 'event_id' in combined_df.columns:\n",
    "        join_cols = ['event_id']\n",
    "    else:\n",
    "        # No matching keys, skip\n",
    "        continue\n",
    "    combined_df = pd.merge(combined_df, df, on=join_cols, how='outer')\n",
    "\n",
    "print(\"Final shape:\", combined_df.shape)"
   ]
  },
  {
   "cell_type": "code",
   "execution_count": 10,
   "metadata": {},
   "outputs": [
    {
     "name": "stdout",
     "output_type": "stream",
     "text": [
      "Final shape: (3690781, 70)\n"
     ]
    }
   ],
   "source": [
    "# Concatenate the dfs together\n",
    "concat_df = pd.concat(dfs, axis=0)\n",
    "print(\"Final shape:\", concat_df.shape)"
   ]
  },
  {
   "cell_type": "code",
   "execution_count": 27,
   "metadata": {},
   "outputs": [
    {
     "data": {
      "text/html": [
       "<div>\n",
       "<style scoped>\n",
       "    .dataframe tbody tr th:only-of-type {\n",
       "        vertical-align: middle;\n",
       "    }\n",
       "\n",
       "    .dataframe tbody tr th {\n",
       "        vertical-align: top;\n",
       "    }\n",
       "\n",
       "    .dataframe thead th {\n",
       "        text-align: right;\n",
       "    }\n",
       "</style>\n",
       "<table border=\"1\" class=\"dataframe\">\n",
       "  <thead>\n",
       "    <tr style=\"text-align: right;\">\n",
       "      <th></th>\n",
       "      <th>FAT_YEARMONTH</th>\n",
       "      <th>FAT_DAY</th>\n",
       "      <th>FAT_TIME</th>\n",
       "      <th>FATALITY_ID</th>\n",
       "      <th>EVENT_ID</th>\n",
       "      <th>FATALITY_TYPE</th>\n",
       "      <th>FATALITY_DATE</th>\n",
       "      <th>FATALITY_AGE</th>\n",
       "      <th>FATALITY_SEX</th>\n",
       "      <th>FATALITY_LOCATION</th>\n",
       "      <th>...</th>\n",
       "      <th>DATA_SOURCE</th>\n",
       "      <th>YEARMONTH</th>\n",
       "      <th>LOCATION_INDEX</th>\n",
       "      <th>RANGE</th>\n",
       "      <th>AZIMUTH</th>\n",
       "      <th>LOCATION</th>\n",
       "      <th>LATITUDE</th>\n",
       "      <th>LONGITUDE</th>\n",
       "      <th>LAT2</th>\n",
       "      <th>LON2</th>\n",
       "    </tr>\n",
       "  </thead>\n",
       "  <tbody>\n",
       "    <tr>\n",
       "      <th>0</th>\n",
       "      <td>195503.0</td>\n",
       "      <td>16.0</td>\n",
       "      <td>1430.0</td>\n",
       "      <td>1005348.0</td>\n",
       "      <td>10075750</td>\n",
       "      <td>D</td>\n",
       "      <td>03/16/1955 14:30:00</td>\n",
       "      <td>NaN</td>\n",
       "      <td>NaN</td>\n",
       "      <td>NaN</td>\n",
       "      <td>...</td>\n",
       "      <td>NaN</td>\n",
       "      <td>NaN</td>\n",
       "      <td>NaN</td>\n",
       "      <td>NaN</td>\n",
       "      <td>NaN</td>\n",
       "      <td>NaN</td>\n",
       "      <td>NaN</td>\n",
       "      <td>NaN</td>\n",
       "      <td>NaN</td>\n",
       "      <td>NaN</td>\n",
       "    </tr>\n",
       "    <tr>\n",
       "      <th>1</th>\n",
       "      <td>195503.0</td>\n",
       "      <td>1.0</td>\n",
       "      <td>152.0</td>\n",
       "      <td>1005349.0</td>\n",
       "      <td>10083328</td>\n",
       "      <td>D</td>\n",
       "      <td>03/01/1955 01:52:00</td>\n",
       "      <td>NaN</td>\n",
       "      <td>NaN</td>\n",
       "      <td>NaN</td>\n",
       "      <td>...</td>\n",
       "      <td>NaN</td>\n",
       "      <td>NaN</td>\n",
       "      <td>NaN</td>\n",
       "      <td>NaN</td>\n",
       "      <td>NaN</td>\n",
       "      <td>NaN</td>\n",
       "      <td>NaN</td>\n",
       "      <td>NaN</td>\n",
       "      <td>NaN</td>\n",
       "      <td>NaN</td>\n",
       "    </tr>\n",
       "    <tr>\n",
       "      <th>2</th>\n",
       "      <td>195503.0</td>\n",
       "      <td>13.0</td>\n",
       "      <td>2100.0</td>\n",
       "      <td>1005350.0</td>\n",
       "      <td>10117464</td>\n",
       "      <td>D</td>\n",
       "      <td>03/13/1955 21:00:00</td>\n",
       "      <td>NaN</td>\n",
       "      <td>NaN</td>\n",
       "      <td>NaN</td>\n",
       "      <td>...</td>\n",
       "      <td>NaN</td>\n",
       "      <td>NaN</td>\n",
       "      <td>NaN</td>\n",
       "      <td>NaN</td>\n",
       "      <td>NaN</td>\n",
       "      <td>NaN</td>\n",
       "      <td>NaN</td>\n",
       "      <td>NaN</td>\n",
       "      <td>NaN</td>\n",
       "      <td>NaN</td>\n",
       "    </tr>\n",
       "    <tr>\n",
       "      <th>3</th>\n",
       "      <td>195503.0</td>\n",
       "      <td>22.0</td>\n",
       "      <td>1430.0</td>\n",
       "      <td>1005351.0</td>\n",
       "      <td>10117756</td>\n",
       "      <td>D</td>\n",
       "      <td>03/22/1955 14:30:00</td>\n",
       "      <td>NaN</td>\n",
       "      <td>NaN</td>\n",
       "      <td>NaN</td>\n",
       "      <td>...</td>\n",
       "      <td>NaN</td>\n",
       "      <td>NaN</td>\n",
       "      <td>NaN</td>\n",
       "      <td>NaN</td>\n",
       "      <td>NaN</td>\n",
       "      <td>NaN</td>\n",
       "      <td>NaN</td>\n",
       "      <td>NaN</td>\n",
       "      <td>NaN</td>\n",
       "      <td>NaN</td>\n",
       "    </tr>\n",
       "    <tr>\n",
       "      <th>4</th>\n",
       "      <td>195504.0</td>\n",
       "      <td>21.0</td>\n",
       "      <td>141.0</td>\n",
       "      <td>1005352.0</td>\n",
       "      <td>9984179</td>\n",
       "      <td>D</td>\n",
       "      <td>04/21/1955 01:41:00</td>\n",
       "      <td>NaN</td>\n",
       "      <td>NaN</td>\n",
       "      <td>NaN</td>\n",
       "      <td>...</td>\n",
       "      <td>NaN</td>\n",
       "      <td>NaN</td>\n",
       "      <td>NaN</td>\n",
       "      <td>NaN</td>\n",
       "      <td>NaN</td>\n",
       "      <td>NaN</td>\n",
       "      <td>NaN</td>\n",
       "      <td>NaN</td>\n",
       "      <td>NaN</td>\n",
       "      <td>NaN</td>\n",
       "    </tr>\n",
       "  </tbody>\n",
       "</table>\n",
       "<p>5 rows × 70 columns</p>\n",
       "</div>"
      ],
      "text/plain": [
       "   FAT_YEARMONTH  FAT_DAY  FAT_TIME  FATALITY_ID  EVENT_ID FATALITY_TYPE  \\\n",
       "0       195503.0     16.0    1430.0    1005348.0  10075750             D   \n",
       "1       195503.0      1.0     152.0    1005349.0  10083328             D   \n",
       "2       195503.0     13.0    2100.0    1005350.0  10117464             D   \n",
       "3       195503.0     22.0    1430.0    1005351.0  10117756             D   \n",
       "4       195504.0     21.0     141.0    1005352.0   9984179             D   \n",
       "\n",
       "         FATALITY_DATE  FATALITY_AGE FATALITY_SEX FATALITY_LOCATION  ...  \\\n",
       "0  03/16/1955 14:30:00           NaN          NaN               NaN  ...   \n",
       "1  03/01/1955 01:52:00           NaN          NaN               NaN  ...   \n",
       "2  03/13/1955 21:00:00           NaN          NaN               NaN  ...   \n",
       "3  03/22/1955 14:30:00           NaN          NaN               NaN  ...   \n",
       "4  04/21/1955 01:41:00           NaN          NaN               NaN  ...   \n",
       "\n",
       "   DATA_SOURCE  YEARMONTH  LOCATION_INDEX  RANGE  AZIMUTH  LOCATION  LATITUDE  \\\n",
       "0          NaN        NaN             NaN    NaN      NaN       NaN       NaN   \n",
       "1          NaN        NaN             NaN    NaN      NaN       NaN       NaN   \n",
       "2          NaN        NaN             NaN    NaN      NaN       NaN       NaN   \n",
       "3          NaN        NaN             NaN    NaN      NaN       NaN       NaN   \n",
       "4          NaN        NaN             NaN    NaN      NaN       NaN       NaN   \n",
       "\n",
       "   LONGITUDE LAT2  LON2  \n",
       "0        NaN  NaN   NaN  \n",
       "1        NaN  NaN   NaN  \n",
       "2        NaN  NaN   NaN  \n",
       "3        NaN  NaN   NaN  \n",
       "4        NaN  NaN   NaN  \n",
       "\n",
       "[5 rows x 70 columns]"
      ]
     },
     "execution_count": 27,
     "metadata": {},
     "output_type": "execute_result"
    }
   ],
   "source": [
    "concat_df.head()"
   ]
  },
  {
   "cell_type": "code",
   "execution_count": 34,
   "metadata": {},
   "outputs": [
    {
     "data": {
      "text/plain": [
       "Index(['FAT_YEARMONTH', 'FAT_DAY', 'FAT_TIME', 'FATALITY_ID', 'EVENT_ID',\n",
       "       'FATALITY_TYPE', 'FATALITY_DATE', 'FATALITY_AGE', 'FATALITY_SEX',\n",
       "       'FATALITY_LOCATION', 'EVENT_YEARMONTH', 'BEGIN_YEARMONTH', 'BEGIN_DAY',\n",
       "       'BEGIN_TIME', 'END_YEARMONTH', 'END_DAY', 'END_TIME', 'EPISODE_ID',\n",
       "       'STATE', 'STATE_FIPS', 'YEAR', 'MONTH_NAME', 'EVENT_TYPE', 'CZ_TYPE',\n",
       "       'CZ_FIPS', 'CZ_NAME', 'WFO', 'BEGIN_DATE_TIME', 'CZ_TIMEZONE',\n",
       "       'END_DATE_TIME', 'INJURIES_DIRECT', 'INJURIES_INDIRECT',\n",
       "       'DEATHS_DIRECT', 'DEATHS_INDIRECT', 'DAMAGE_PROPERTY', 'DAMAGE_CROPS',\n",
       "       'SOURCE', 'MAGNITUDE', 'MAGNITUDE_TYPE', 'FLOOD_CAUSE', 'CATEGORY',\n",
       "       'TOR_F_SCALE', 'TOR_LENGTH', 'TOR_WIDTH', 'TOR_OTHER_WFO',\n",
       "       'TOR_OTHER_CZ_STATE', 'TOR_OTHER_CZ_FIPS', 'TOR_OTHER_CZ_NAME',\n",
       "       'BEGIN_RANGE', 'BEGIN_AZIMUTH', 'BEGIN_LOCATION', 'END_RANGE',\n",
       "       'END_AZIMUTH', 'END_LOCATION', 'BEGIN_LAT', 'BEGIN_LON', 'END_LAT',\n",
       "       'END_LON', 'EPISODE_NARRATIVE', 'EVENT_NARRATIVE', 'DATA_SOURCE',\n",
       "       'YEARMONTH', 'LOCATION_INDEX', 'RANGE', 'AZIMUTH', 'LOCATION',\n",
       "       'LATITUDE', 'LONGITUDE', 'LAT2', 'LON2'],\n",
       "      dtype='object')"
      ]
     },
     "execution_count": 34,
     "metadata": {},
     "output_type": "execute_result"
    }
   ],
   "source": [
    "concat_df.columns"
   ]
  },
  {
   "cell_type": "code",
   "execution_count": 33,
   "metadata": {},
   "outputs": [],
   "source": [
    "assert 'EVENT_ID' in concat_df.columns and 'EPISODE_ID' in concat_df.columns, \"The columns 'EVENT_ID' and 'EPISODE_ID' are not in the dataframe\""
   ]
  },
  {
   "cell_type": "code",
   "execution_count": 23,
   "metadata": {},
   "outputs": [
    {
     "data": {
      "text/html": [
       "<div>\n",
       "<style scoped>\n",
       "    .dataframe tbody tr th:only-of-type {\n",
       "        vertical-align: middle;\n",
       "    }\n",
       "\n",
       "    .dataframe tbody tr th {\n",
       "        vertical-align: top;\n",
       "    }\n",
       "\n",
       "    .dataframe thead th {\n",
       "        text-align: right;\n",
       "    }\n",
       "</style>\n",
       "<table border=\"1\" class=\"dataframe\">\n",
       "  <thead>\n",
       "    <tr style=\"text-align: right;\">\n",
       "      <th></th>\n",
       "      <th>FAT_YEARMONTH</th>\n",
       "      <th>FAT_DAY</th>\n",
       "      <th>FAT_TIME</th>\n",
       "      <th>FATALITY_ID</th>\n",
       "      <th>EVENT_ID</th>\n",
       "      <th>FATALITY_TYPE</th>\n",
       "      <th>FATALITY_DATE</th>\n",
       "      <th>FATALITY_AGE</th>\n",
       "      <th>FATALITY_SEX</th>\n",
       "      <th>FATALITY_LOCATION</th>\n",
       "      <th>EVENT_YEARMONTH</th>\n",
       "    </tr>\n",
       "  </thead>\n",
       "  <tbody>\n",
       "    <tr>\n",
       "      <th>0</th>\n",
       "      <td>195807</td>\n",
       "      <td>1</td>\n",
       "      <td>1510</td>\n",
       "      <td>1005456</td>\n",
       "      <td>10055208</td>\n",
       "      <td>D</td>\n",
       "      <td>07/01/1958 15:10:00</td>\n",
       "      <td>NaN</td>\n",
       "      <td>NaN</td>\n",
       "      <td>NaN</td>\n",
       "      <td>195807</td>\n",
       "    </tr>\n",
       "    <tr>\n",
       "      <th>1</th>\n",
       "      <td>195808</td>\n",
       "      <td>4</td>\n",
       "      <td>1930</td>\n",
       "      <td>1005457</td>\n",
       "      <td>10055429</td>\n",
       "      <td>D</td>\n",
       "      <td>08/04/1958 19:30:00</td>\n",
       "      <td>NaN</td>\n",
       "      <td>NaN</td>\n",
       "      <td>NaN</td>\n",
       "      <td>195808</td>\n",
       "    </tr>\n",
       "    <tr>\n",
       "      <th>2</th>\n",
       "      <td>195809</td>\n",
       "      <td>7</td>\n",
       "      <td>1600</td>\n",
       "      <td>1005458</td>\n",
       "      <td>10040343</td>\n",
       "      <td>D</td>\n",
       "      <td>09/07/1958 16:00:00</td>\n",
       "      <td>NaN</td>\n",
       "      <td>NaN</td>\n",
       "      <td>NaN</td>\n",
       "      <td>195809</td>\n",
       "    </tr>\n",
       "    <tr>\n",
       "      <th>3</th>\n",
       "      <td>195810</td>\n",
       "      <td>19</td>\n",
       "      <td>735</td>\n",
       "      <td>1005459</td>\n",
       "      <td>9984944</td>\n",
       "      <td>D</td>\n",
       "      <td>10/19/1958 07:35:00</td>\n",
       "      <td>NaN</td>\n",
       "      <td>NaN</td>\n",
       "      <td>NaN</td>\n",
       "      <td>195810</td>\n",
       "    </tr>\n",
       "    <tr>\n",
       "      <th>4</th>\n",
       "      <td>195810</td>\n",
       "      <td>10</td>\n",
       "      <td>1905</td>\n",
       "      <td>1005460</td>\n",
       "      <td>10048193</td>\n",
       "      <td>D</td>\n",
       "      <td>10/10/1958 19:05:00</td>\n",
       "      <td>NaN</td>\n",
       "      <td>NaN</td>\n",
       "      <td>NaN</td>\n",
       "      <td>195810</td>\n",
       "    </tr>\n",
       "  </tbody>\n",
       "</table>\n",
       "</div>"
      ],
      "text/plain": [
       "   FAT_YEARMONTH  FAT_DAY  FAT_TIME  FATALITY_ID  EVENT_ID FATALITY_TYPE  \\\n",
       "0         195807        1      1510      1005456  10055208             D   \n",
       "1         195808        4      1930      1005457  10055429             D   \n",
       "2         195809        7      1600      1005458  10040343             D   \n",
       "3         195810       19       735      1005459   9984944             D   \n",
       "4         195810       10      1905      1005460  10048193             D   \n",
       "\n",
       "         FATALITY_DATE  FATALITY_AGE  FATALITY_SEX  FATALITY_LOCATION  \\\n",
       "0  07/01/1958 15:10:00           NaN           NaN                NaN   \n",
       "1  08/04/1958 19:30:00           NaN           NaN                NaN   \n",
       "2  09/07/1958 16:00:00           NaN           NaN                NaN   \n",
       "3  10/19/1958 07:35:00           NaN           NaN                NaN   \n",
       "4  10/10/1958 19:05:00           NaN           NaN                NaN   \n",
       "\n",
       "   EVENT_YEARMONTH  \n",
       "0           195807  \n",
       "1           195808  \n",
       "2           195809  \n",
       "3           195810  \n",
       "4           195810  "
      ]
     },
     "execution_count": 23,
     "metadata": {},
     "output_type": "execute_result"
    }
   ],
   "source": [
    "# check out a random dataframe\n",
    "dfs[50].head(5)"
   ]
  },
  {
   "cell_type": "code",
   "execution_count": null,
   "metadata": {},
   "outputs": [],
   "source": []
  }
 ],
 "metadata": {
  "kernelspec": {
   "display_name": "main",
   "language": "python",
   "name": "python3"
  },
  "language_info": {
   "codemirror_mode": {
    "name": "ipython",
    "version": 3
   },
   "file_extension": ".py",
   "mimetype": "text/x-python",
   "name": "python",
   "nbconvert_exporter": "python",
   "pygments_lexer": "ipython3",
   "version": "3.10.16"
  }
 },
 "nbformat": 4,
 "nbformat_minor": 2
}
