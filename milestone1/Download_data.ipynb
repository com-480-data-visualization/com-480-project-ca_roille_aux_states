{
 "cells": [
  {
   "cell_type": "markdown",
   "metadata": {},
   "source": [
    "# Download and Unzip the files from the website"
   ]
  },
  {
   "cell_type": "code",
   "execution_count": 3,
   "metadata": {},
   "outputs": [],
   "source": [
    "import os\n",
    "import requests\n",
    "import gzip\n",
    "import shutil\n",
    "from urllib.parse import urljoin\n",
    "from bs4 import BeautifulSoup"
   ]
  },
  {
   "cell_type": "code",
   "execution_count": 4,
   "metadata": {},
   "outputs": [
    {
     "name": "stdout",
     "output_type": "stream",
     "text": [
      "All .csv.gz files have been downloaded and unzipped.\n"
     ]
    }
   ],
   "source": [
    "# URL to fetch data from\n",
    "url = \"https://www.ncei.noaa.gov/pub/data/swdi/stormevents/csvfiles/\"\n",
    "\n",
    "# Send a request to the webpage\n",
    "response = requests.get(url)\n",
    "\n",
    "# Parse the HTML page with BeautifulSoup\n",
    "soup = BeautifulSoup(response.content, \"html.parser\")\n",
    "\n",
    "# Find all links to files\n",
    "links = soup.find_all(\"a\", href=True)\n",
    "\n",
    "# Create 'storm_data' directory if it doesn't exist\n",
    "if not os.path.exists(\"storm_data\"):\n",
    "    os.makedirs(\"storm_data\")\n",
    "\n",
    "# Iterate over each link to download the CSV.gz files\n",
    "for link in links:\n",
    "    href = link.get(\"href\")\n",
    "    if href.endswith(\".csv.gz\"):\n",
    "        file_url = urljoin(url, href)  # Full URL to the file\n",
    "        filename = os.path.join(\"storm_data\", href.split(\"/\")[-1])  # Save path for the .csv.gz file\n",
    "        \n",
    "        # Download the .csv.gz file\n",
    "        with requests.get(file_url, stream=True) as file_response:\n",
    "            with open(filename, \"wb\") as file:\n",
    "                for chunk in file_response.iter_content(chunk_size=8192):\n",
    "                    file.write(chunk)\n",
    "\n",
    "        # Unzip the .csv.gz file and save as .csv\n",
    "        csv_filename = os.path.join(\"storm_data\", href.split(\"/\")[-1].replace(\".csv.gz\", \".csv\"))\n",
    "        with gzip.open(filename, 'rb') as f_in:\n",
    "            with open(csv_filename, 'wb') as f_out:\n",
    "                shutil.copyfileobj(f_in, f_out)\n",
    "        \n",
    "        # Optionally, you can delete the .csv.gz file after unzipping if you don't need it anymore\n",
    "        os.remove(filename)\n",
    "\n",
    "print(\"All .csv.gz files have been downloaded and unzipped.\")"
   ]
  }
 ],
 "metadata": {
  "kernelspec": {
   "display_name": "main",
   "language": "python",
   "name": "python3"
  },
  "language_info": {
   "codemirror_mode": {
    "name": "ipython",
    "version": 3
   },
   "file_extension": ".py",
   "mimetype": "text/x-python",
   "name": "python",
   "nbconvert_exporter": "python",
   "pygments_lexer": "ipython3",
   "version": "3.10.16"
  }
 },
 "nbformat": 4,
 "nbformat_minor": 2
}
